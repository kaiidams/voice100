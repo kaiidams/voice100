{
 "cells": [
  {
   "cell_type": "code",
   "execution_count": 12,
   "metadata": {},
   "outputs": [],
   "source": [
    "import re\n",
    "\n",
    "def read_metadata():\n",
    "    with open('data/kokoro-speech-v1_3-large/metadata.csv', 'rt') as fp:\n",
    "        for idx, line in enumerate(fp):\n",
    "            parts = line.rstrip('\\r\\n').split('|')\n",
    "            x = parts[1]\n",
    "            x = x.replace(' ・ ', ' , ')\n",
    "            x = x.replace('・', ' , ')\n",
    "            x = x.replace('「', '')\n",
    "            x = x.replace('」', '')\n",
    "            x = re.sub(r'[―…（）　］『』ー‥]', '', x)\n",
    "            x = re.sub(r' +', ' ', x)\n",
    "            x = x.strip()\n",
    "            x = x.split(' ')\n",
    "            y = parts[2].replace(',', '_ , _')\n",
    "            y = y.replace('.', '_ . _')\n",
    "            y = y.replace('?', '_ ? _')\n",
    "            y = y.replace('!', '_ ! _')\n",
    "            y = y.strip()\n",
    "            y = y.split(' _ ')\n",
    "            if len(x) != len(y):\n",
    "                print(idx, line)\n",
    "                for x, y in zip(x, y):\n",
    "                    print(x, y)\n",
    "                assert False\n",
    "            yield parts[0], [(x, y) for x, y in zip(x, y)]"
   ]
  },
  {
   "cell_type": "code",
   "execution_count": 34,
   "metadata": {},
   "outputs": [],
   "source": [
    "def read_align():\n",
    "    with open('data/kokoro_large-phone-align-train.txt', 'rt') as fp:\n",
    "        for idx, line in enumerate(fp):\n",
    "            parts = line.rstrip('\\r\\n').split('|')\n",
    "            yield parts[1].split(' ')\n",
    "\n"
   ]
  },
  {
   "cell_type": "code",
   "execution_count": 53,
   "metadata": {},
   "outputs": [
    {
     "name": "stdout",
     "output_type": "stream",
     "text": [
      "- - - - - - - - - - - - - - - - - - - - - - - - - - - - - - - - - - - - - - - - - - - - - - - - こころ/0/k こころ/1/o - - - - こころ/2/k こころ/3/o - - - - こころ/4/r こころ/5/o - - - - - - - - - - - - - - - - - - - - - - - - - - - - - - - - - - - - - - - - - - - - - - - - - - - - - - 夏目/0/n 夏目/1/a - - - - - 夏目/2/ts 夏目/3/u - - 夏目/4/m 夏目/5/e - - - - - - - 漱石/0/s 漱石/0/s 漱石/1/o: - - - - - - - 漱石/2/s 漱石/3/e - - - - - - 漱石/4/k 漱石/5/i - - - - - - - - - - - - - - - - - - - - - - - - - - - - - - - - - - - - - - - - - - - - -\n"
     ]
    }
   ],
   "source": [
    "for a, (id_, x) in zip(read_align(), read_metadata()):\n",
    "    a.append('@')\n",
    "    b = []\n",
    "    i = 0\n",
    "    while a[i] == '-':\n",
    "        b.append(a[i])\n",
    "        i += 1\n",
    "    while x:\n",
    "        word, phone = x[0]\n",
    "        x = x[1:]\n",
    "        for j, p in enumerate(phone.split(' ')):\n",
    "            while a[i] == p:\n",
    "                b.append(f'{word}/{j}/{a[i]}')\n",
    "                i += 1\n",
    "            while a[i] == '-':\n",
    "                b.append(a[i])\n",
    "                i += 1\n",
    "    assert a[i] == '@', a[i]\n",
    "    print(' '.join(b))\n",
    "    break"
   ]
  },
  {
   "cell_type": "code",
   "execution_count": null,
   "metadata": {},
   "outputs": [],
   "source": []
  }
 ],
 "metadata": {
  "kernelspec": {
   "display_name": "py311",
   "language": "python",
   "name": "python3"
  },
  "language_info": {
   "codemirror_mode": {
    "name": "ipython",
    "version": 3
   },
   "file_extension": ".py",
   "mimetype": "text/x-python",
   "name": "python",
   "nbconvert_exporter": "python",
   "pygments_lexer": "ipython3",
   "version": "3.11.5"
  }
 },
 "nbformat": 4,
 "nbformat_minor": 2
}
